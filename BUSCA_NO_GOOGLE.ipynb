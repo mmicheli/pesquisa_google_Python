{
  "nbformat": 4,
  "nbformat_minor": 0,
  "metadata": {
    "colab": {
      "name": "BUSCA NO GOOGLE.ipynb",
      "provenance": [],
      "authorship_tag": "ABX9TyM7JC1c5X9QItN3H321bkmc",
      "include_colab_link": true
    },
    "kernelspec": {
      "name": "python3",
      "display_name": "Python 3"
    },
    "language_info": {
      "name": "python"
    }
  },
  "cells": [
    {
      "cell_type": "markdown",
      "metadata": {
        "id": "view-in-github",
        "colab_type": "text"
      },
      "source": [
        "<a href=\"https://colab.research.google.com/github/mmicheli/pesquisa_google_Python/blob/main/BUSCA_NO_GOOGLE.ipynb\" target=\"_parent\"><img src=\"https://colab.research.google.com/assets/colab-badge.svg\" alt=\"Open In Colab\"/></a>"
      ]
    },
    {
      "cell_type": "code",
      "metadata": {
        "colab": {
          "base_uri": "https://localhost:8080/"
        },
        "id": "JgKr3Bq_wFra",
        "outputId": "862a966b-ad7c-4a23-998d-b9c338fd2424"
      },
      "source": [
        "from bs4 import BeautifulSoup \n",
        "import requests\n",
        "\n",
        "headers = {'User-Agent': 'Mozilla/5.0 (Windows NT 10.0; Win64; x64) AppleWebKit/537.36 (KHTML, like Gecko) Chrome/58.0.3029.110 Safari/537.3'}\n",
        "def google(query):\n",
        "    query = query.replace(\" \",\"+\")\n",
        "    try:\n",
        "        url = f'https://www.google.com/search?q={query}&oq={query}&aqs=chrome..69i57j46j69i59j35i39j0j46j0l2.4948j0j7&sourceid=chrome&ie=UTF-8'\n",
        "        res = requests.get(url,headers=headers)\n",
        "        soup = BeautifulSoup(res.text,'html.parser')\n",
        "    except:\n",
        "        print(\"Make sure you have a internet connection\")\n",
        "    try:\n",
        "        try:\n",
        "            ans = soup.select('.RqBzHd')[0].getText().strip()\n",
        "        \n",
        "        except:\n",
        "            try:\n",
        "                title=soup.select('.AZCkJd')[0].getText().strip()\n",
        "                try:\n",
        "                    ans=soup.select('.e24Kjd')[0].getText().strip()\n",
        "                except:\n",
        "                    ans=\"\"\n",
        "                ans=f'{title}\\n{ans}'\n",
        "                \n",
        "            except:\n",
        "                try:\n",
        "                    ans=soup.select('.hgKElc')[0].getText().strip()\n",
        "                except:\n",
        "                    ans=soup.select('.kno-rdesc span')[0].getText().strip()\n",
        "    \n",
        "    except:\n",
        "        ans = \"can't find on google\"\n",
        "    return ans\n",
        "\n",
        "result = google(str(input(\"Query\\n\")))\n",
        "print(result)    "
      ],
      "execution_count": 6,
      "outputs": [
        {
          "output_type": "stream",
          "text": [
            "Query\n",
            "python\n",
            "Python is an interpreted high-level general-purpose programming language. Python's design philosophy emphasizes code readability with its notable use of significant indentation.\n"
          ],
          "name": "stdout"
        }
      ]
    }
  ]
}